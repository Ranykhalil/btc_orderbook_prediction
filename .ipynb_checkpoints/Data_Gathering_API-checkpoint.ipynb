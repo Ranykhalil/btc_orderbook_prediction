{
 "cells": [
  {
   "cell_type": "markdown",
   "metadata": {},
   "source": [
    "# Data Gathering\n",
    "The orderbook data is being downloaded from Kaiku using a provided API key https://www.kaiko.com/"
   ]
  },
  {
   "cell_type": "code",
   "execution_count": 163,
   "metadata": {},
   "outputs": [],
   "source": [
    "import requests\n",
    "import pandas as pd\n",
    "page_size = 10\n",
    "headers = {\n",
    "    'X-Api-Key': 'mh5o6vifqj84rx378p4288ix6xeduqfy',\n",
    "}\n",
    "\n",
    "params = (\n",
    "    ('page_size', str(page_size)),\n",
    "    ('limit_orders', '99999'),\n",
    ")\n",
    "next_url = 'https://us.market-api.kaiko.io/v1/data/order_book_snapshots.latest/exchanges/krkn/spot/btc-usd/snapshots/full'\n",
    "collected_data = pd.DataFrame()\n",
    "\n",
    "for thing in range(0,2):\n",
    "    response = requests.get(next_url, headers=headers, params=params)\n",
    "    next_url = response.json()['next_url']\n",
    "\n",
    "\n",
    "\n",
    "    for item in range(0,page_size):\n",
    "        date = response.json()['data'][item]['poll_timestamp']\n",
    "        asks = pd.DataFrame.from_dict(response.json()['data'][item]['asks'], orient='columns')\n",
    "        asks['type'] = 'a'\n",
    "        asks['date'] = date\n",
    "        asks = asks.set_index('date',drop=True)\n",
    "\n",
    "        bids = pd.DataFrame.from_dict(response.json()['data'][item]['bids'], orient='columns')\n",
    "        bids['type'] = 'b'\n",
    "        bids['date'] = date\n",
    "        bids = bids.set_index('date',drop=True)\n",
    "        collected_data = pd.concat([collected_data,bids,asks])\n"
   ]
  },
  {
   "cell_type": "code",
   "execution_count": 164,
   "metadata": {},
   "outputs": [
    {
     "data": {
      "text/html": [
       "<div>\n",
       "<style scoped>\n",
       "    .dataframe tbody tr th:only-of-type {\n",
       "        vertical-align: middle;\n",
       "    }\n",
       "\n",
       "    .dataframe tbody tr th {\n",
       "        vertical-align: top;\n",
       "    }\n",
       "\n",
       "    .dataframe thead th {\n",
       "        text-align: right;\n",
       "    }\n",
       "</style>\n",
       "<table border=\"1\" class=\"dataframe\">\n",
       "  <thead>\n",
       "    <tr style=\"text-align: right;\">\n",
       "      <th></th>\n",
       "      <th>amount</th>\n",
       "      <th>price</th>\n",
       "      <th>type</th>\n",
       "    </tr>\n",
       "    <tr>\n",
       "      <th>date</th>\n",
       "      <th></th>\n",
       "      <th></th>\n",
       "      <th></th>\n",
       "    </tr>\n",
       "  </thead>\n",
       "  <tbody>\n",
       "    <tr>\n",
       "      <td>1589952674132</td>\n",
       "      <td>9.132</td>\n",
       "      <td>9715.1</td>\n",
       "      <td>b</td>\n",
       "    </tr>\n",
       "    <tr>\n",
       "      <td>1589952674132</td>\n",
       "      <td>6.039</td>\n",
       "      <td>9715</td>\n",
       "      <td>b</td>\n",
       "    </tr>\n",
       "    <tr>\n",
       "      <td>1589952674132</td>\n",
       "      <td>0.018</td>\n",
       "      <td>9714.5</td>\n",
       "      <td>b</td>\n",
       "    </tr>\n",
       "    <tr>\n",
       "      <td>1589952674132</td>\n",
       "      <td>1.544</td>\n",
       "      <td>9714.3</td>\n",
       "      <td>b</td>\n",
       "    </tr>\n",
       "    <tr>\n",
       "      <td>1589952674132</td>\n",
       "      <td>0.09</td>\n",
       "      <td>9714</td>\n",
       "      <td>b</td>\n",
       "    </tr>\n",
       "    <tr>\n",
       "      <td>...</td>\n",
       "      <td>...</td>\n",
       "      <td>...</td>\n",
       "      <td>...</td>\n",
       "    </tr>\n",
       "    <tr>\n",
       "      <td>1589952132433</td>\n",
       "      <td>3.054</td>\n",
       "      <td>10218.5</td>\n",
       "      <td>a</td>\n",
       "    </tr>\n",
       "    <tr>\n",
       "      <td>1589952132433</td>\n",
       "      <td>0.5</td>\n",
       "      <td>10219.6</td>\n",
       "      <td>a</td>\n",
       "    </tr>\n",
       "    <tr>\n",
       "      <td>1589952132433</td>\n",
       "      <td>0.003</td>\n",
       "      <td>10219.7</td>\n",
       "      <td>a</td>\n",
       "    </tr>\n",
       "    <tr>\n",
       "      <td>1589952132433</td>\n",
       "      <td>0.25</td>\n",
       "      <td>10220</td>\n",
       "      <td>a</td>\n",
       "    </tr>\n",
       "    <tr>\n",
       "      <td>1589952132433</td>\n",
       "      <td>0.005</td>\n",
       "      <td>10222</td>\n",
       "      <td>a</td>\n",
       "    </tr>\n",
       "  </tbody>\n",
       "</table>\n",
       "<p>20000 rows × 3 columns</p>\n",
       "</div>"
      ],
      "text/plain": [
       "              amount    price type\n",
       "date                              \n",
       "1589952674132  9.132   9715.1    b\n",
       "1589952674132  6.039     9715    b\n",
       "1589952674132  0.018   9714.5    b\n",
       "1589952674132  1.544   9714.3    b\n",
       "1589952674132   0.09     9714    b\n",
       "...              ...      ...  ...\n",
       "1589952132433  3.054  10218.5    a\n",
       "1589952132433    0.5  10219.6    a\n",
       "1589952132433  0.003  10219.7    a\n",
       "1589952132433   0.25    10220    a\n",
       "1589952132433  0.005    10222    a\n",
       "\n",
       "[20000 rows x 3 columns]"
      ]
     },
     "execution_count": 164,
     "metadata": {},
     "output_type": "execute_result"
    }
   ],
   "source": [
    "collected_data"
   ]
  },
  {
   "cell_type": "code",
   "execution_count": 165,
   "metadata": {},
   "outputs": [
    {
     "data": {
      "image/png": "[encoded data removed]",
      "text/plain": [
       "<Figure size 1080x288 with 1 Axes>"
      ]
     },
     "metadata": {
      "needs_background": "light"
     },
     "output_type": "display_data"
    }
   ],
   "source": [
    "import matplotlib.pyplot as plt\n",
    "import numpy as np\n",
    "plt.figure(figsize=(15,4));\n",
    "plt.title('Distribution of time difference between consecutive datapoints');\n",
    "plt.xlabel('Seconds')\n",
    "plt.ylabel('Number of occurence')\n",
    "plt.hist(pd.Series(list(collected_data.index.unique())).sort_values(ascending=True).map(lambda x: round(x/1000)).diff(),300);"
   ]
  },
  {
   "cell_type": "code",
   "execution_count": null,
   "metadata": {},
   "outputs": [],
   "source": []
  }
 ],
 "metadata": {
  "kernelspec": {
   "display_name": "Python 3.6.9 64-bit ('learn-env': conda)",
   "language": "python",
   "name": "python36964bitlearnenvconda73a6b7ead5a84093afcb9dca25787081"
  },
  "language_info": {
   "codemirror_mode": {
    "name": "ipython",
    "version": 3
   },
   "file_extension": ".py",
   "mimetype": "text/x-python",
   "name": "python",
   "nbconvert_exporter": "python",
   "pygments_lexer": "ipython3",
   "version": "3.6.9"
  }
 },
 "nbformat": 4,
 "nbformat_minor": 4
}
