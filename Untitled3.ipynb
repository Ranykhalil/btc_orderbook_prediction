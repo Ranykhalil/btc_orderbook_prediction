{
 "cells": [
  {
   "cell_type": "code",
   "execution_count": 160,
   "metadata": {},
   "outputs": [],
   "source": [
    "# !pip install pycurl \n"
   ]
  },
  {
   "cell_type": "code",
   "execution_count": 149,
   "metadata": {},
   "outputs": [
    {
     "data": {
      "text/plain": [
       "2940724"
      ]
     },
     "execution_count": 149,
     "metadata": {},
     "output_type": "execute_result"
    }
   ],
   "source": [
    "import requests\n",
    "import pandas as pd\n",
    "page_size = 10\n",
    "headers = {\n",
    "    'X-Api-Key': 'mh5o6vifqj84rx378p4288ix6xeduqfy',\n",
    "}\n",
    "\n",
    "params = (\n",
    "    ('page_size', str(page_size)),\n",
    "    ('limit_orders', '99999'),\n",
    ")\n",
    "next_url = 'https://us.market-api.kaiko.io/v1/data/order_book_snapshots.latest/exchanges/krkn/spot/btc-usd/snapshots/full'\n",
    "collected_data = pd.DataFrame()\n",
    "\n",
    "for thing in range(0,2):\n",
    "    response = requests.get(next_url, headers=headers, params=params)\n",
    "    next_url = response.json()['next_url']\n",
    "\n",
    "\n",
    "\n",
    "    for item in range(0,page_size):\n",
    "        date = response.json()['data'][item]['poll_timestamp']\n",
    "        asks = pd.DataFrame.from_dict(response.json()['data'][item]['asks'], orient='columns')\n",
    "        asks['type'] = 'a'\n",
    "        asks['date'] = date\n",
    "        asks = asks.set_index('date',drop=True)\n",
    "\n",
    "        bids = pd.DataFrame.from_dict(response.json()['data'][item]['bids'], orient='columns')\n",
    "        bids['type'] = 'b'\n",
    "        bids['date'] = date\n",
    "        bids = bids.set_index('date',drop=True)\n",
    "        collected_data = pd.concat([collected_data,bids,asks])\n",
    "collected_data.index.max() - collected_data.index.min()"
   ]
  },
  {
   "cell_type": "code",
   "execution_count": 150,
   "metadata": {},
   "outputs": [
    {
     "data": {
      "text/html": [
       "<div>\n",
       "<style scoped>\n",
       "    .dataframe tbody tr th:only-of-type {\n",
       "        vertical-align: middle;\n",
       "    }\n",
       "\n",
       "    .dataframe tbody tr th {\n",
       "        vertical-align: top;\n",
       "    }\n",
       "\n",
       "    .dataframe thead th {\n",
       "        text-align: right;\n",
       "    }\n",
       "</style>\n",
       "<table border=\"1\" class=\"dataframe\">\n",
       "  <thead>\n",
       "    <tr style=\"text-align: right;\">\n",
       "      <th></th>\n",
       "      <th>amount</th>\n",
       "      <th>price</th>\n",
       "      <th>type</th>\n",
       "    </tr>\n",
       "    <tr>\n",
       "      <th>date</th>\n",
       "      <th></th>\n",
       "      <th></th>\n",
       "      <th></th>\n",
       "    </tr>\n",
       "  </thead>\n",
       "  <tbody>\n",
       "    <tr>\n",
       "      <td>1589769969509</td>\n",
       "      <td>11.196</td>\n",
       "      <td>9880</td>\n",
       "      <td>b</td>\n",
       "    </tr>\n",
       "    <tr>\n",
       "      <td>1589769969509</td>\n",
       "      <td>1</td>\n",
       "      <td>9879.8</td>\n",
       "      <td>b</td>\n",
       "    </tr>\n",
       "    <tr>\n",
       "      <td>1589769969509</td>\n",
       "      <td>0.2</td>\n",
       "      <td>9879.1</td>\n",
       "      <td>b</td>\n",
       "    </tr>\n",
       "    <tr>\n",
       "      <td>1589769969509</td>\n",
       "      <td>0.01</td>\n",
       "      <td>9878.4</td>\n",
       "      <td>b</td>\n",
       "    </tr>\n",
       "    <tr>\n",
       "      <td>1589769969509</td>\n",
       "      <td>0.309</td>\n",
       "      <td>9877.2</td>\n",
       "      <td>b</td>\n",
       "    </tr>\n",
       "    <tr>\n",
       "      <td>...</td>\n",
       "      <td>...</td>\n",
       "      <td>...</td>\n",
       "      <td>...</td>\n",
       "    </tr>\n",
       "    <tr>\n",
       "      <td>1589767028785</td>\n",
       "      <td>0.275</td>\n",
       "      <td>10449</td>\n",
       "      <td>a</td>\n",
       "    </tr>\n",
       "    <tr>\n",
       "      <td>1589767028785</td>\n",
       "      <td>26.141</td>\n",
       "      <td>10450</td>\n",
       "      <td>a</td>\n",
       "    </tr>\n",
       "    <tr>\n",
       "      <td>1589767028785</td>\n",
       "      <td>0.038</td>\n",
       "      <td>10450.9</td>\n",
       "      <td>a</td>\n",
       "    </tr>\n",
       "    <tr>\n",
       "      <td>1589767028785</td>\n",
       "      <td>1</td>\n",
       "      <td>10455</td>\n",
       "      <td>a</td>\n",
       "    </tr>\n",
       "    <tr>\n",
       "      <td>1589767028785</td>\n",
       "      <td>0.02</td>\n",
       "      <td>10456</td>\n",
       "      <td>a</td>\n",
       "    </tr>\n",
       "  </tbody>\n",
       "</table>\n",
       "<p>100000 rows × 3 columns</p>\n",
       "</div>"
      ],
      "text/plain": [
       "               amount    price type\n",
       "date                               \n",
       "1589769969509  11.196     9880    b\n",
       "1589769969509       1   9879.8    b\n",
       "1589769969509     0.2   9879.1    b\n",
       "1589769969509    0.01   9878.4    b\n",
       "1589769969509   0.309   9877.2    b\n",
       "...               ...      ...  ...\n",
       "1589767028785   0.275    10449    a\n",
       "1589767028785  26.141    10450    a\n",
       "1589767028785   0.038  10450.9    a\n",
       "1589767028785       1    10455    a\n",
       "1589767028785    0.02    10456    a\n",
       "\n",
       "[100000 rows x 3 columns]"
      ]
     },
     "execution_count": 150,
     "metadata": {},
     "output_type": "execute_result"
    }
   ],
   "source": [
    "collected_data"
   ]
  },
  {
   "cell_type": "code",
   "execution_count": 159,
   "metadata": {},
   "outputs": [
    {
     "data": {
      "image/png": "[encoded data removed]",
      "text/plain": [
       "<Figure size 1080x288 with 1 Axes>"
      ]
     },
     "metadata": {
      "needs_background": "light"
     },
     "output_type": "display_data"
    }
   ],
   "source": [
    "import matplotlib.pyplot as plt\n",
    "import numpy as np\n",
    "plt.figure(figsize=(15,4));\n",
    "plt.title('Distribution of time difference between consecutive datapoints');\n",
    "plt.xlabel('Seconds')\n",
    "plt.ylabel('Number of occurence')\n",
    "plt.hist(pd.Series(list(collected_data.index.unique())).sort_values(ascending=True).map(lambda x: round(x/1000)).diff(),300);"
   ]
  }
 ],
 "metadata": {
  "kernelspec": {
   "display_name": "Python 3.6.9 64-bit ('learn-env': conda)",
   "language": "python",
   "name": "python36964bitlearnenvconda73a6b7ead5a84093afcb9dca25787081"
  },
  "language_info": {
   "codemirror_mode": {
    "name": "ipython",
    "version": 3
   },
   "file_extension": ".py",
   "mimetype": "text/x-python",
   "name": "python",
   "nbconvert_exporter": "python",
   "pygments_lexer": "ipython3",
   "version": "3.6.9"
  }
 },
 "nbformat": 4,
 "nbformat_minor": 4
}
